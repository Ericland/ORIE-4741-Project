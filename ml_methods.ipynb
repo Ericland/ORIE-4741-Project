{
 "cells": [
  {
   "cell_type": "code",
   "execution_count": 11,
   "id": "76cb2cbd",
   "metadata": {},
   "outputs": [],
   "source": [
    "import numpy as np\n",
    "import pandas as pd\n",
    "import statsmodels.api as sm\n",
    "import matplotlib.pyplot as plt\n",
    "%matplotlib inline\n",
    "import random as rand\n",
    "from sklearn.preprocessing import OneHotEncoder,LabelBinarizer,StandardScaler\n",
    "from sklearn.model_selection import train_test_split\n",
    "from sklearn.svm import SVR,LinearSVR\n",
    "from sklearn.linear_model import Ridge,Lasso,QuantileRegressor,HuberRegressor,LinearRegression\n",
    "from sklearn.ensemble import RandomForestRegressor,BaggingRegressor,GradientBoostingRegressor\n",
    "from sklearn.neural_network import MLPRegressor"
   ]
  },
  {
   "cell_type": "code",
   "execution_count": 12,
   "id": "2573cde0",
   "metadata": {},
   "outputs": [],
   "source": [
    "# df = pd.read_csv('vehicles.csv')\n",
    "# # df.groupby(['manufacturer']).size()\n",
    "\n",
    "# df = df[df['manufacturer']=='ford']\n",
    "# df = df.loc[:, df.columns.isin(all_label)]\n",
    "# df.to_csv('ford.csv',index=False)"
   ]
  },
  {
   "cell_type": "markdown",
   "id": "47e2d676",
   "metadata": {},
   "source": [
    "# Read Data"
   ]
  },
  {
   "cell_type": "code",
   "execution_count": 235,
   "id": "ffcaf2f9",
   "metadata": {},
   "outputs": [
    {
     "data": {
      "text/plain": [
       "(34202, 20)"
      ]
     },
     "execution_count": 235,
     "metadata": {},
     "output_type": "execute_result"
    }
   ],
   "source": [
    "# read data\n",
    "data = pd.read_csv('toyota.csv')\n",
    "data.shape"
   ]
  },
  {
   "cell_type": "markdown",
   "id": "a9abdae4",
   "metadata": {},
   "source": [
    "# Preprocessing"
   ]
  },
  {
   "cell_type": "code",
   "execution_count": 236,
   "id": "0b5417a6",
   "metadata": {},
   "outputs": [],
   "source": [
    "# all useful labels\n",
    "all_label = [\n",
    "         'price',\n",
    "         'region',\n",
    "         'year', \n",
    "         'manufacturer',     \n",
    "         'model', \n",
    "         'condition', \n",
    "         'cylinders', \n",
    "         'fuel', \n",
    "         'odometer', \n",
    "         'title_status',\n",
    "         'transmission', \n",
    "         'drive', \n",
    "         'size', \n",
    "         'type', \n",
    "         'paint_color',\n",
    "         'description', \n",
    "         'state', \n",
    "         'lat', \n",
    "         'long']\n",
    "\n",
    "labels_real = ['odometer']\n",
    "\n",
    "# labels_cate = [\n",
    "#             'model',\n",
    "#             'region',\n",
    "#             'year',  \n",
    "#             'condition', \n",
    "#             'cylinders', \n",
    "#             'fuel',  \n",
    "#             'title_status',\n",
    "#             'transmission', \n",
    "#             'drive', \n",
    "#             'size', \n",
    "#             'type', \n",
    "#             'paint_color',\n",
    "#             'state']\n",
    "\n",
    "labels_cate = ['region',\n",
    "               'year',\n",
    "              'model',\n",
    "              'cylinders',\n",
    "              'condition', \n",
    "              'fuel', \n",
    "              'title_status',\n",
    "              'transmission', \n",
    "              'drive', \n",
    "              'paint_color']\n",
    "\n",
    "# labels_cate = ['model',\n",
    "#               'region',\n",
    "#               'condition', \n",
    "#               'title_status',\n",
    "#               'paint_color']"
   ]
  },
  {
   "cell_type": "code",
   "execution_count": 237,
   "id": "047231cb",
   "metadata": {},
   "outputs": [
    {
     "data": {
      "text/plain": [
       "(8569, 12)"
      ]
     },
     "execution_count": 237,
     "metadata": {},
     "output_type": "execute_result"
    }
   ],
   "source": [
    "# only look at useful labels above\n",
    "data = data.loc[:, data.columns.isin(labels_real+labels_cate+['price','model'])]\n",
    "\n",
    "# drop columns with N/A\n",
    "data = data.dropna()\n",
    "\n",
    "# drop price outliers\n",
    "Q1 = data['price'].quantile(0.025)\n",
    "Q3 = data['price'].quantile(0.975)\n",
    "\n",
    "data = data[(data['price']>Q1) & (data['price']<Q3)]\n",
    "\n",
    "# drop duplicated rows\n",
    "#data = data.drop_duplicates()\n",
    "\n",
    "# filter out model with sample <=10\n",
    "data = data.groupby('model').filter(lambda x: len(x) > 10)\n",
    "\n",
    "data = data.sort_values(by=['price'])\n",
    "data.shape"
   ]
  },
  {
   "cell_type": "code",
   "execution_count": 238,
   "id": "583a2b75",
   "metadata": {},
   "outputs": [
    {
     "data": {
      "text/html": [
       "<div>\n",
       "<style scoped>\n",
       "    .dataframe tbody tr th:only-of-type {\n",
       "        vertical-align: middle;\n",
       "    }\n",
       "\n",
       "    .dataframe tbody tr th {\n",
       "        vertical-align: top;\n",
       "    }\n",
       "\n",
       "    .dataframe thead th {\n",
       "        text-align: right;\n",
       "    }\n",
       "</style>\n",
       "<table border=\"1\" class=\"dataframe\">\n",
       "  <thead>\n",
       "    <tr style=\"text-align: right;\">\n",
       "      <th></th>\n",
       "      <th>region</th>\n",
       "      <th>price</th>\n",
       "      <th>year</th>\n",
       "      <th>model</th>\n",
       "      <th>condition</th>\n",
       "      <th>cylinders</th>\n",
       "      <th>fuel</th>\n",
       "      <th>odometer</th>\n",
       "      <th>title_status</th>\n",
       "      <th>transmission</th>\n",
       "      <th>drive</th>\n",
       "      <th>paint_color</th>\n",
       "    </tr>\n",
       "  </thead>\n",
       "  <tbody>\n",
       "    <tr>\n",
       "      <th>8907</th>\n",
       "      <td>daytona beach</td>\n",
       "      <td>1</td>\n",
       "      <td>2015.0</td>\n",
       "      <td>camry</td>\n",
       "      <td>excellent</td>\n",
       "      <td>4 cylinders</td>\n",
       "      <td>gas</td>\n",
       "      <td>50566.0</td>\n",
       "      <td>clean</td>\n",
       "      <td>automatic</td>\n",
       "      <td>fwd</td>\n",
       "      <td>black</td>\n",
       "    </tr>\n",
       "    <tr>\n",
       "      <th>9621</th>\n",
       "      <td>lakeland</td>\n",
       "      <td>1</td>\n",
       "      <td>2016.0</td>\n",
       "      <td>rav4</td>\n",
       "      <td>excellent</td>\n",
       "      <td>10 cylinders</td>\n",
       "      <td>gas</td>\n",
       "      <td>68339.0</td>\n",
       "      <td>clean</td>\n",
       "      <td>automatic</td>\n",
       "      <td>rwd</td>\n",
       "      <td>blue</td>\n",
       "    </tr>\n",
       "    <tr>\n",
       "      <th>9620</th>\n",
       "      <td>lakeland</td>\n",
       "      <td>1</td>\n",
       "      <td>2015.0</td>\n",
       "      <td>camry</td>\n",
       "      <td>excellent</td>\n",
       "      <td>4 cylinders</td>\n",
       "      <td>gas</td>\n",
       "      <td>50566.0</td>\n",
       "      <td>clean</td>\n",
       "      <td>automatic</td>\n",
       "      <td>fwd</td>\n",
       "      <td>black</td>\n",
       "    </tr>\n",
       "    <tr>\n",
       "      <th>23610</th>\n",
       "      <td>chillicothe</td>\n",
       "      <td>1</td>\n",
       "      <td>1999.0</td>\n",
       "      <td>4runner</td>\n",
       "      <td>good</td>\n",
       "      <td>6 cylinders</td>\n",
       "      <td>gas</td>\n",
       "      <td>256000.0</td>\n",
       "      <td>clean</td>\n",
       "      <td>automatic</td>\n",
       "      <td>4wd</td>\n",
       "      <td>silver</td>\n",
       "    </tr>\n",
       "    <tr>\n",
       "      <th>9286</th>\n",
       "      <td>gainesville</td>\n",
       "      <td>1</td>\n",
       "      <td>2017.0</td>\n",
       "      <td>tundra 4wd</td>\n",
       "      <td>excellent</td>\n",
       "      <td>8 cylinders</td>\n",
       "      <td>gas</td>\n",
       "      <td>60453.0</td>\n",
       "      <td>clean</td>\n",
       "      <td>automatic</td>\n",
       "      <td>4wd</td>\n",
       "      <td>white</td>\n",
       "    </tr>\n",
       "    <tr>\n",
       "      <th>...</th>\n",
       "      <td>...</td>\n",
       "      <td>...</td>\n",
       "      <td>...</td>\n",
       "      <td>...</td>\n",
       "      <td>...</td>\n",
       "      <td>...</td>\n",
       "      <td>...</td>\n",
       "      <td>...</td>\n",
       "      <td>...</td>\n",
       "      <td>...</td>\n",
       "      <td>...</td>\n",
       "      <td>...</td>\n",
       "    </tr>\n",
       "    <tr>\n",
       "      <th>11992</th>\n",
       "      <td>hawaii</td>\n",
       "      <td>40000</td>\n",
       "      <td>2016.0</td>\n",
       "      <td>tundra 4wd truck</td>\n",
       "      <td>excellent</td>\n",
       "      <td>8 cylinders</td>\n",
       "      <td>gas</td>\n",
       "      <td>14450.0</td>\n",
       "      <td>clean</td>\n",
       "      <td>automatic</td>\n",
       "      <td>4wd</td>\n",
       "      <td>brown</td>\n",
       "    </tr>\n",
       "    <tr>\n",
       "      <th>30694</th>\n",
       "      <td>tyler / east TX</td>\n",
       "      <td>40000</td>\n",
       "      <td>2017.0</td>\n",
       "      <td>sequoia</td>\n",
       "      <td>excellent</td>\n",
       "      <td>8 cylinders</td>\n",
       "      <td>gas</td>\n",
       "      <td>138412.0</td>\n",
       "      <td>clean</td>\n",
       "      <td>automatic</td>\n",
       "      <td>4wd</td>\n",
       "      <td>white</td>\n",
       "    </tr>\n",
       "    <tr>\n",
       "      <th>28075</th>\n",
       "      <td>greenville / upstate</td>\n",
       "      <td>40000</td>\n",
       "      <td>2017.0</td>\n",
       "      <td>tundra</td>\n",
       "      <td>excellent</td>\n",
       "      <td>8 cylinders</td>\n",
       "      <td>gas</td>\n",
       "      <td>51500.0</td>\n",
       "      <td>clean</td>\n",
       "      <td>automatic</td>\n",
       "      <td>4wd</td>\n",
       "      <td>grey</td>\n",
       "    </tr>\n",
       "    <tr>\n",
       "      <th>29227</th>\n",
       "      <td>austin</td>\n",
       "      <td>40000</td>\n",
       "      <td>2007.0</td>\n",
       "      <td>fj cruiser</td>\n",
       "      <td>excellent</td>\n",
       "      <td>6 cylinders</td>\n",
       "      <td>gas</td>\n",
       "      <td>94509.0</td>\n",
       "      <td>lien</td>\n",
       "      <td>manual</td>\n",
       "      <td>4wd</td>\n",
       "      <td>blue</td>\n",
       "    </tr>\n",
       "    <tr>\n",
       "      <th>30999</th>\n",
       "      <td>vermont</td>\n",
       "      <td>40445</td>\n",
       "      <td>2018.0</td>\n",
       "      <td>tundra</td>\n",
       "      <td>good</td>\n",
       "      <td>8 cylinders</td>\n",
       "      <td>gas</td>\n",
       "      <td>41105.0</td>\n",
       "      <td>clean</td>\n",
       "      <td>automatic</td>\n",
       "      <td>4wd</td>\n",
       "      <td>grey</td>\n",
       "    </tr>\n",
       "  </tbody>\n",
       "</table>\n",
       "<p>8569 rows × 12 columns</p>\n",
       "</div>"
      ],
      "text/plain": [
       "                     region  price    year             model  condition  \\\n",
       "8907          daytona beach      1  2015.0             camry  excellent   \n",
       "9621               lakeland      1  2016.0              rav4  excellent   \n",
       "9620               lakeland      1  2015.0             camry  excellent   \n",
       "23610           chillicothe      1  1999.0           4runner       good   \n",
       "9286            gainesville      1  2017.0        tundra 4wd  excellent   \n",
       "...                     ...    ...     ...               ...        ...   \n",
       "11992                hawaii  40000  2016.0  tundra 4wd truck  excellent   \n",
       "30694       tyler / east TX  40000  2017.0           sequoia  excellent   \n",
       "28075  greenville / upstate  40000  2017.0            tundra  excellent   \n",
       "29227                austin  40000  2007.0        fj cruiser  excellent   \n",
       "30999               vermont  40445  2018.0            tundra       good   \n",
       "\n",
       "          cylinders fuel  odometer title_status transmission drive paint_color  \n",
       "8907    4 cylinders  gas   50566.0        clean    automatic   fwd       black  \n",
       "9621   10 cylinders  gas   68339.0        clean    automatic   rwd        blue  \n",
       "9620    4 cylinders  gas   50566.0        clean    automatic   fwd       black  \n",
       "23610   6 cylinders  gas  256000.0        clean    automatic   4wd      silver  \n",
       "9286    8 cylinders  gas   60453.0        clean    automatic   4wd       white  \n",
       "...             ...  ...       ...          ...          ...   ...         ...  \n",
       "11992   8 cylinders  gas   14450.0        clean    automatic   4wd       brown  \n",
       "30694   8 cylinders  gas  138412.0        clean    automatic   4wd       white  \n",
       "28075   8 cylinders  gas   51500.0        clean    automatic   4wd        grey  \n",
       "29227   6 cylinders  gas   94509.0         lien       manual   4wd        blue  \n",
       "30999   8 cylinders  gas   41105.0        clean    automatic   4wd        grey  \n",
       "\n",
       "[8569 rows x 12 columns]"
      ]
     },
     "execution_count": 238,
     "metadata": {},
     "output_type": "execute_result"
    }
   ],
   "source": [
    "data"
   ]
  },
  {
   "cell_type": "code",
   "execution_count": 239,
   "id": "374b8da7",
   "metadata": {},
   "outputs": [
    {
     "name": "stdout",
     "output_type": "stream",
     "text": [
      "categorical feature size: 589\n",
      "X shape: (8569, 590)\n",
      "y shape: (8569,)\n"
     ]
    }
   ],
   "source": [
    "# get real value columns\n",
    "data_real = np.asarray(data.loc[:, data.columns.isin(labels_real)])\n",
    "\n",
    "# get categorical columns\n",
    "data_cate = np.asarray(data.loc[:, data.columns.isin(labels_cate)])\n",
    "\n",
    "# one-hot encode categorical data\n",
    "enc = OneHotEncoder(handle_unknown='ignore')\n",
    "enc.fit(data_cate)\n",
    "data_cate_enc = enc.transform(data_cate).toarray()\n",
    "\n",
    "# get X\n",
    "X = np.concatenate((data_real, data_cate_enc),axis=1)\n",
    "print('categorical feature size:', data_cate_enc.shape[1])\n",
    "\n",
    "# normalize data\n",
    "scaler = StandardScaler().fit(X)\n",
    "X = scaler.transform(X)\n",
    "\n",
    "y = np.asarray(data['price'])\n",
    "print('X shape:', X.shape)\n",
    "print('y shape:', y.shape)"
   ]
  },
  {
   "cell_type": "code",
   "execution_count": 240,
   "id": "6ec7a992",
   "metadata": {},
   "outputs": [
    {
     "data": {
      "text/plain": [
       "590"
      ]
     },
     "execution_count": 240,
     "metadata": {},
     "output_type": "execute_result"
    }
   ],
   "source": [
    "features = ['odometer']\n",
    "l = enc.categories_\n",
    "for i in l:\n",
    "    features = np.concatenate((features,i))\n",
    "    \n",
    "len(features)"
   ]
  },
  {
   "cell_type": "markdown",
   "id": "ebf05297",
   "metadata": {},
   "source": [
    "# Train&Test Split\n"
   ]
  },
  {
   "cell_type": "code",
   "execution_count": 241,
   "id": "e4648db7",
   "metadata": {},
   "outputs": [],
   "source": [
    "X_train, X_test, y_train, y_test = train_test_split(X, y, test_size=0.2)"
   ]
  },
  {
   "cell_type": "markdown",
   "id": "6f40716d",
   "metadata": {},
   "source": [
    "# Train Models"
   ]
  },
  {
   "cell_type": "code",
   "execution_count": 242,
   "id": "7fd555c5",
   "metadata": {},
   "outputs": [],
   "source": [
    "# This function computes the mean squared error\n",
    "def RMSE(y, pred):\n",
    "    return np.sqrt(np.mean(np.square(y-pred)))"
   ]
  },
  {
   "cell_type": "code",
   "execution_count": 243,
   "id": "f3c91abe",
   "metadata": {},
   "outputs": [],
   "source": [
    "def run_OLS(train_y, test_y, train_vals, test_vals):\n",
    "    # add offset\n",
    "    m,n = len(train_vals), len(test_vals)\n",
    "    train_vals = np.concatenate( (train_vals, np.ones((m,1))) , axis = 1)\n",
    "    test_vals = np.concatenate( (test_vals, np.ones((n,1))) , axis = 1)\n",
    "\n",
    "    ols_model = sm.regression.linear_model.OLS(train_y, train_vals)\n",
    "    while True: # Bypasses SVD convergence assertion error\n",
    "        try:\n",
    "            results = ols_model.fit()\n",
    "            break\n",
    "        except:\n",
    "            None\n",
    "            \n",
    "    w = np.array(results.params).reshape([len(results.params),1])\n",
    "\n",
    "    train_pred = np.matmul(train_vals,w)\n",
    "    test_pred = np.matmul(test_vals,w)\n",
    "\n",
    "    train_RMSE = RMSE(train_y, train_pred.flatten())\n",
    "    test_RMSE = RMSE(test_y, test_pred.flatten())\n",
    "    \n",
    "    return train_RMSE, test_RMSE, test_pred"
   ]
  },
  {
   "cell_type": "code",
   "execution_count": 244,
   "id": "ac5deebd",
   "metadata": {},
   "outputs": [
    {
     "data": {
      "text/plain": [
       "(3326.6262567936274,\n",
       " 4160.537398363917,\n",
       " array([[29115.12579255],\n",
       "        [18999.78106832],\n",
       "        [28567.27409238],\n",
       "        ...,\n",
       "        [14626.24770147],\n",
       "        [13799.18877325],\n",
       "        [  915.30133279]]))"
      ]
     },
     "execution_count": 244,
     "metadata": {},
     "output_type": "execute_result"
    }
   ],
   "source": [
    "run_OLS(y_train, y_test, X_train, X_test)"
   ]
  },
  {
   "cell_type": "code",
   "execution_count": 259,
   "id": "36581e12",
   "metadata": {},
   "outputs": [
    {
     "data": {
      "text/plain": [
       "array([100, 169, 296, 249, 241,   3, 319, 356, 235, 317, 390, 291, 109,\n",
       "       262, 396, 131, 323, 218, 144, 350,  54, 557, 335, 360, 353, 175,\n",
       "        44, 588,  72, 425, 163, 149,  56, 346, 228, 343,  35, 213, 244,\n",
       "        18, 332,  74,  85, 107, 242, 118, 257, 289, 221, 333, 511,  62,\n",
       "       187, 302, 344, 308, 174,  47, 373, 198, 178, 259, 553, 334,   5,\n",
       "       202, 313,  24,  79, 113, 309, 364, 368, 438,  97, 254,  70,  36,\n",
       "       564, 126, 137,  17, 297, 157, 158, 106, 306, 153,  91, 326, 173,\n",
       "        40,  82, 342, 150,  41, 328, 264, 284, 247, 307, 123, 366, 141,\n",
       "       270, 117, 164, 182, 582, 166, 355,  75, 108, 565, 379, 209, 580,\n",
       "       386,  14, 204,  67, 188,  48,  68, 219, 195, 290, 181, 305, 505,\n",
       "       345, 200, 348, 377,  71,  99, 114, 180, 273, 359, 283,  51,  83,\n",
       "       101, 159, 251, 365,  23, 170, 189,  22, 171, 132,   8, 381, 183,\n",
       "         6, 253, 330,  21,  87,  19, 476, 120, 298,  88, 263,  13, 145,\n",
       "       197, 336,  11, 395,  33, 147, 234,  12, 201, 215, 155,  80, 146,\n",
       "       199, 383, 151, 246, 274, 207, 375, 436, 172, 216,  28, 238,  76,\n",
       "       329, 363, 135,  53,  77, 250, 227, 589, 337, 104, 192, 285,  50,\n",
       "        92,  52, 255, 347, 194, 587, 231, 310, 581, 140, 378, 214, 578,\n",
       "       179, 351, 331, 122, 142,  10, 463, 376, 177, 311, 380, 128,  15,\n",
       "       354, 318, 586, 111, 280, 451, 152,  93,  69, 469, 385,  49, 176,\n",
       "        32,   7, 124, 304, 156, 312, 184, 211, 389, 372, 240, 563,  64,\n",
       "        37, 130, 286,  45, 115,  96, 370, 552,  30,  78, 272, 316, 217,\n",
       "       551, 261,  39, 340, 223, 367,  55,  98, 243, 127, 245, 239,  73,\n",
       "       162, 232, 226, 224, 134, 248, 320,  26, 103,  58, 206, 161, 143,\n",
       "       299,   4, 300, 584,  61, 573, 205,  86, 325,   2, 154, 341, 288,\n",
       "       237, 260, 121, 133,  90, 138, 560, 506, 475, 256, 444, 222, 384,\n",
       "       504, 220, 374,  94, 498,  29,  38, 165, 321, 212, 268, 579, 210,\n",
       "       125, 477, 271,  34, 478, 110, 148, 569, 208, 392,  81, 315, 276,\n",
       "       314, 295, 252,  89, 269, 369, 358, 352, 203, 338, 160,  16, 327,\n",
       "       287, 474, 371, 339, 391, 301, 349, 555, 196, 361, 129, 513, 105,\n",
       "       362, 191,  59,  20,  60, 225,  43, 102,  42, 233,  65, 518,   1,\n",
       "       230, 236,  84, 266, 193, 514, 294, 293, 322,  25, 357, 281,  63,\n",
       "       190, 258, 497, 567, 439, 382,  46, 139, 282, 576, 275, 279, 265,\n",
       "       186, 185, 167, 461, 119, 501,  95, 454, 509, 292, 116, 394, 393,\n",
       "       499, 500, 460, 545, 493,  57, 399, 277, 483, 479, 303, 583, 515,\n",
       "       387, 550, 542, 568, 112, 572, 485, 449, 267, 388, 531,   9, 562,\n",
       "        31, 473, 490, 229, 570, 585, 168, 544, 465, 561, 442,  27, 447,\n",
       "       441, 512, 450, 397, 496, 402, 457, 398, 536, 571,  66, 519, 424,\n",
       "       448, 278, 459, 324, 136, 495, 452, 503, 574, 467, 426, 566, 502,\n",
       "       535, 482, 527, 401, 548, 540, 484, 534, 403, 455, 543, 492, 446,\n",
       "       407, 400, 491, 522, 486, 547, 510, 435, 526, 406, 524, 468, 537,\n",
       "       525, 404, 520, 445, 541, 549, 410, 427, 481, 507, 462, 409, 423,\n",
       "       471, 494, 559, 517, 408, 528, 539, 405, 523, 489, 558, 488, 575,\n",
       "       458, 529, 411, 456, 508, 577, 546, 470, 554, 437, 412, 556, 472,\n",
       "       533, 413, 422, 480, 466, 440, 428, 421, 530, 414, 416, 443, 487,\n",
       "       419, 417, 418, 420, 453, 429, 415, 532, 464, 516, 434, 538, 433,\n",
       "       430, 521, 431, 432,   0])"
      ]
     },
     "execution_count": 259,
     "metadata": {},
     "output_type": "execute_result"
    }
   ],
   "source": [
    "# use different models to predict\n",
    "\n",
    "# model = RandomForestRegressor(n_estimators = 50,\n",
    "#                               criterion = 'absolute_error',\n",
    "#                               max_depth=50,\n",
    "#                               max_leaf_nodes = 10000)\n",
    "\n",
    "\n",
    "# model = Ridge(alpha=8)\n",
    "# model = Lasso(alpha=10, max_iter = 10000)\n",
    "\n",
    "# model = HuberRegressor(alpha=0.001,\n",
    "#                       epsilon = 2,\n",
    "#                       max_iter = 10**100\n",
    "#                       )\n",
    "\n",
    "# model = LinearRegression()\n",
    "\n",
    "# model = GradientBoostingRegressor(n_estimators=500,\n",
    "#                                  loss='huber')\n",
    "\n",
    "# model = MLPRegressor(hidden_layer_sizes = (5,2), max_iter=10000)\n",
    "\n",
    "# model.fit(X_train, y_train)\n",
    "# y_pred = model.predict(X_test)\n",
    "\n",
    "# RMSE(y_pred , y_test)\n",
    "\n",
    "\n",
    "ols_model = sm.regression.linear_model.OLS(y_train, X_train)\n",
    "results = ols_model.fit()\n",
    "w = np.array(results.params).reshape([len(results.params),1])\n",
    "\n",
    "l = model.coef_\n",
    "A = np.argsort(np.abs(l))\n",
    "A"
   ]
  },
  {
   "cell_type": "code",
   "execution_count": 260,
   "id": "bc5ea5bc",
   "metadata": {},
   "outputs": [
    {
     "name": "stdout",
     "output_type": "stream",
     "text": [
      "2016.0\n",
      "tacoma double cab pickup\n",
      "2017.0\n",
      "2018.0\n",
      "odometer\n"
     ]
    }
   ],
   "source": [
    "for i in A[-5:]:\n",
    "    print(features[i])"
   ]
  },
  {
   "cell_type": "code",
   "execution_count": 268,
   "id": "3718c0fc",
   "metadata": {},
   "outputs": [
    {
     "name": "stdout",
     "output_type": "stream",
     "text": [
      "1828.4080351724626\n"
     ]
    }
   ],
   "source": [
    "print(l[521])"
   ]
  },
  {
   "cell_type": "code",
   "execution_count": 258,
   "id": "92295e0e",
   "metadata": {},
   "outputs": [],
   "source": [
    "# y_pred = model.predict(X_train)\n",
    "\n",
    "# RMSE(y_pred , y_train)"
   ]
  },
  {
   "cell_type": "code",
   "execution_count": 249,
   "id": "a68f5f98",
   "metadata": {
    "scrolled": false
   },
   "outputs": [
    {
     "data": {
      "text/plain": [
       "118514641692046208"
      ]
     },
     "execution_count": 249,
     "metadata": {},
     "output_type": "execute_result"
    }
   ],
   "source": [
    "model2 = BaggingRegressor(base_estimator=model,\n",
    "                            n_estimators=10,\n",
    "                            max_samples=1000)\n",
    "\n",
    "model2.fit(X_train,y_train)\n",
    "y2 = model2.predict(X_train)\n",
    "int(np.mean((y_train - y2)**2) // 1000)"
   ]
  },
  {
   "cell_type": "code",
   "execution_count": 250,
   "id": "2f3958eb",
   "metadata": {},
   "outputs": [],
   "source": [
    "def var(model, y, X):\n",
    "    trees = model.estimators_\n",
    "    v = []\n",
    "    for t in trees:\n",
    "        v.append(np.mean((t.predict(X) - y)**2))\n",
    "    return np.mean(v)"
   ]
  },
  {
   "cell_type": "code",
   "execution_count": 251,
   "id": "e2dbe016",
   "metadata": {},
   "outputs": [
    {
     "data": {
      "text/plain": [
       "856707727237916672"
      ]
     },
     "execution_count": 251,
     "metadata": {},
     "output_type": "execute_result"
    }
   ],
   "source": [
    "int(var(model2, y2, X_train) // 1000)"
   ]
  },
  {
   "cell_type": "markdown",
   "id": "e362346b",
   "metadata": {},
   "source": [
    "# Final Result"
   ]
  },
  {
   "cell_type": "markdown",
   "id": "4c1bd931",
   "metadata": {},
   "source": [
    "| Algorithm     | Train RMSE  | Test RMSE | \n",
    "| --------------| ----------- | --------- | \n",
    "| Linear        | 3220        |   3633    | \n",
    "| Ridge         | 3220        |   3520    | \n",
    "| Lasso         | 3232        |   3504    | \n",
    "| Huber         | 3318        |   3430    |   \n",
    "| Random Forest | 1199        |   3152    |     \n",
    "| Boosting      | 2606        |   3126    |     \n"
   ]
  },
  {
   "cell_type": "code",
   "execution_count": null,
   "id": "98f625c2",
   "metadata": {},
   "outputs": [],
   "source": []
  },
  {
   "cell_type": "code",
   "execution_count": null,
   "id": "497e8971",
   "metadata": {},
   "outputs": [],
   "source": []
  },
  {
   "cell_type": "code",
   "execution_count": null,
   "id": "daf72786",
   "metadata": {},
   "outputs": [],
   "source": []
  },
  {
   "cell_type": "code",
   "execution_count": null,
   "id": "ae2ebb2a",
   "metadata": {},
   "outputs": [],
   "source": []
  },
  {
   "cell_type": "code",
   "execution_count": null,
   "id": "be197099",
   "metadata": {},
   "outputs": [],
   "source": []
  },
  {
   "cell_type": "code",
   "execution_count": null,
   "id": "544b41be",
   "metadata": {},
   "outputs": [],
   "source": []
  },
  {
   "cell_type": "code",
   "execution_count": null,
   "id": "5473c40a",
   "metadata": {},
   "outputs": [],
   "source": []
  },
  {
   "cell_type": "code",
   "execution_count": null,
   "id": "e31e8b94",
   "metadata": {},
   "outputs": [],
   "source": []
  },
  {
   "cell_type": "code",
   "execution_count": null,
   "id": "0684aa4f",
   "metadata": {},
   "outputs": [],
   "source": []
  },
  {
   "cell_type": "code",
   "execution_count": null,
   "id": "aa968247",
   "metadata": {},
   "outputs": [],
   "source": []
  },
  {
   "cell_type": "markdown",
   "id": "736cf53c",
   "metadata": {},
   "source": [
    "# car modelwise model"
   ]
  },
  {
   "cell_type": "markdown",
   "id": "cc636cd1",
   "metadata": {},
   "source": [
    "### Read Data (makewise)"
   ]
  },
  {
   "cell_type": "code",
   "execution_count": 4,
   "id": "d0a7aed9",
   "metadata": {},
   "outputs": [],
   "source": [
    "# read data\n",
    "data = pd.read_csv('toyota.csv')"
   ]
  },
  {
   "cell_type": "markdown",
   "id": "ca548030",
   "metadata": {},
   "source": [
    "# Preprocessing(modelwise)\n"
   ]
  },
  {
   "cell_type": "code",
   "execution_count": 3,
   "id": "0784113b",
   "metadata": {},
   "outputs": [],
   "source": [
    "# labels_real = ['odometer','lat','long']\n",
    "\n",
    "labels_real = ['odometer', 'lat', 'long']\n",
    "\n",
    "# labels_cate = ['region',\n",
    "#                'year',\n",
    "#               'model',\n",
    "#               'condition', \n",
    "#               'fuel', \n",
    "#               'title_status',\n",
    "#               'transmission', \n",
    "#               'drive', \n",
    "#               'paint_color']\n",
    "\n",
    "# labels_cate = [\n",
    "#             'region',\n",
    "#             'year',  \n",
    "#             'condition', \n",
    "#             'cylinders', \n",
    "#             'fuel',  \n",
    "#             'title_status',\n",
    "#             'transmission', \n",
    "#             'drive', \n",
    "#             'size', \n",
    "#             'type', \n",
    "#             'paint_color',\n",
    "#             'state']\n",
    "\n",
    "# labels_cate = ['region',\n",
    "#                'year',\n",
    "#               'condition', \n",
    "#               'title_status',\n",
    "#               'paint_color']\n",
    "\n",
    "labels_cate = ['year',\n",
    "              'paint_color',\n",
    "              'condition', \n",
    "              'title_status']"
   ]
  },
  {
   "cell_type": "code",
   "execution_count": 5,
   "id": "c10dcbe2",
   "metadata": {},
   "outputs": [
    {
     "data": {
      "text/plain": [
       "(13095, 9)"
      ]
     },
     "execution_count": 5,
     "metadata": {},
     "output_type": "execute_result"
    }
   ],
   "source": [
    "# only look at useful labels above\n",
    "data = data.loc[:, data.columns.isin(labels_real+labels_cate+['price','model'])]\n",
    "\n",
    "# drop columns with N/A\n",
    "data = data.dropna()\n",
    "\n",
    "# drop price outliers\n",
    "Q1 = data['price'].quantile(0.025)\n",
    "Q3 = data['price'].quantile(0.975)\n",
    "\n",
    "data = data[(data['price']>Q1) & (data['price']<Q3)]\n",
    "\n",
    "# drop duplicated rows\n",
    "#data = data.drop_duplicates()\n",
    "\n",
    "# filter out model with sample <=10\n",
    "data = data.groupby('model').filter(lambda x: len(x) > 10)\n",
    "\n",
    "data = data.sort_values(by=['price'])\n",
    "data.shape"
   ]
  },
  {
   "cell_type": "code",
   "execution_count": 6,
   "id": "9a82a437",
   "metadata": {},
   "outputs": [
    {
     "name": "stdout",
     "output_type": "stream",
     "text": [
      "categorical feature size: 71\n",
      "data_final shape: (13095, 76)\n"
     ]
    }
   ],
   "source": [
    "# get real value columns\n",
    "data_real = data.loc[:, data.columns.isin(labels_real)]\n",
    "\n",
    "# get categorical columns and use one-hot encoding\n",
    "label = labels_cate[0]\n",
    "data_cate = pd.get_dummies(data[label], prefix=label)\n",
    "\n",
    "for label in labels_cate[1:]:\n",
    "    # one-hot encode\n",
    "    data_cate = pd.concat([data_cate, pd.get_dummies(data[label], prefix=label)], axis=1)\n",
    "    \n",
    "print('categorical feature size:', data_cate.shape[1])\n",
    "\n",
    "# get X\n",
    "data_final = pd.concat([data_real, data_cate],axis=1)\n",
    "# normalize data\n",
    "data_final = (data_final-data_final.mean())/data_final.std()\n",
    "\n",
    "# add model column to X\n",
    "data_final['model'] = data['model']\n",
    "data_final['price'] = data['price']\n",
    "\n",
    "print('data_final shape:', data_final.shape)"
   ]
  },
  {
   "cell_type": "markdown",
   "id": "aa8d22f5",
   "metadata": {},
   "source": [
    "# Train&Test Split(modelwise)\n"
   ]
  },
  {
   "cell_type": "code",
   "execution_count": 7,
   "id": "b29febab",
   "metadata": {},
   "outputs": [],
   "source": [
    "train, test = train_test_split(data_final, test_size=0.2)"
   ]
  },
  {
   "cell_type": "markdown",
   "id": "fb2cb481",
   "metadata": {},
   "source": [
    "# Train Models(modelwise)"
   ]
  },
  {
   "cell_type": "code",
   "execution_count": 159,
   "id": "eb8f58f2",
   "metadata": {
    "scrolled": true
   },
   "outputs": [],
   "source": [
    "def fit_linear(X_train, y_train):\n",
    "    model = sm.regression.linear_model.OLS(y_train, X_train)\n",
    "    results = model.fit()\n",
    "    w = np.array(results.params).reshape([len(results.params),1])\n",
    "    return w\n",
    "\n",
    "def fit_ridge(X_train, y_train):\n",
    "    model = Ridge(alpha=10)\n",
    "    model.fit(X_train, y_train)\n",
    "    return model\n",
    "\n",
    "def fit_lasso(X_train, y_train):\n",
    "    model = Lasso(alpha=200, max_iter= 10000)\n",
    "    model.fit(X_train, y_train)\n",
    "    return model\n",
    "\n",
    "def fit_rf(X_train, y_train):\n",
    "    model = RandomForestRegressor(n_estimators = 100,\n",
    "                              #criterion = 'absolute_error',\n",
    "                              max_leaf_nodes = 1000)\n",
    "    model.fit(X_train, y_train)\n",
    "    return model\n",
    "\n",
    "def fit_huber(X_train, y_train):\n",
    "    model = HuberRegressor(alpha=0.01,\n",
    "                      epsilon = 10,\n",
    "                      max_iter = 10000\n",
    "                      )\n",
    "    model.fit(X_train, y_train)\n",
    "    return model\n",
    "\n",
    "def fit_boost(X_train, y_train):\n",
    "    model = GradientBoostingRegressor(n_estimators=150,\n",
    "                                 loss='huber')\n",
    "    model.fit(X_train, y_train)\n",
    "    return model"
   ]
  },
  {
   "cell_type": "code",
   "execution_count": 163,
   "id": "7aa56d5f",
   "metadata": {},
   "outputs": [],
   "source": [
    "# group rows by model\n",
    "train_gb = train.groupby(['model'])\n",
    "groups = dict(list(train_gb))\n",
    "gp_model = {k:None for k in groups.keys()}\n",
    "\n",
    "# train a model for each car-model\n",
    "for model in groups.keys():\n",
    "    gp_df = groups[model]\n",
    "    gp_X = np.asarray(gp_df.loc[:, ~gp_df.columns.isin([\"model\", \"price\"])])\n",
    "    gp_y = np.asarray(gp_df.loc[:, gp_df.columns == 'price']).flatten()\n",
    "    gp_model[model] = fit_boost(gp_X, gp_y)"
   ]
  },
  {
   "cell_type": "code",
   "execution_count": 161,
   "id": "d9dcceba",
   "metadata": {},
   "outputs": [
    {
     "data": {
      "text/plain": [
       "3082.3178016561196"
      ]
     },
     "execution_count": 161,
     "metadata": {},
     "output_type": "execute_result"
    }
   ],
   "source": [
    "# get test RMSE\n",
    "test_gb = test.groupby(['model'])\n",
    "groups = dict(list(test_gb))\n",
    "errors = [[0,0]]\n",
    "\n",
    "for model in groups.keys():\n",
    "    gp_df = groups[model]\n",
    "    gp_X = np.asarray(gp_df.loc[:, ~gp_df.columns.isin([\"model\", \"price\"])])\n",
    "    gp_y = np.asarray(gp_df.loc[:, gp_df.columns == 'price']).flatten()\n",
    "    \n",
    "    y_pred = gp_model[model].predict(gp_X)\n",
    "    \n",
    "    # use below for linear model\n",
    "#     w = gp_model[model]\n",
    "#     y_pred = np.matmul(gp_X,w)\n",
    "    \n",
    "    gp_y = gp_y.reshape((len(gp_y),1))\n",
    "    y_pred = y_pred.reshape((len(y_pred),1))\n",
    "    \n",
    "    e = np.concatenate((gp_y,y_pred), axis=1)\n",
    "    errors = np.concatenate((errors,e), axis=0)\n",
    "    \n",
    "RMSE(errors[:,0] , errors[:,1])"
   ]
  },
  {
   "cell_type": "code",
   "execution_count": 162,
   "id": "dada7d1b",
   "metadata": {},
   "outputs": [
    {
     "data": {
      "text/plain": [
       "1308.3543777852926"
      ]
     },
     "execution_count": 162,
     "metadata": {},
     "output_type": "execute_result"
    }
   ],
   "source": [
    "# get train RMSE\n",
    "train_gb = train.groupby(['model'])\n",
    "groups = dict(list(train_gb))\n",
    "errors = [[0,0]]\n",
    "\n",
    "for model in groups.keys():\n",
    "    gp_df = groups[model]\n",
    "    gp_X = np.asarray(gp_df.loc[:, ~gp_df.columns.isin([\"model\", \"price\"])])\n",
    "    gp_y = np.asarray(gp_df.loc[:, gp_df.columns == 'price']).flatten()\n",
    "    \n",
    "    y_pred = gp_model[model].predict(gp_X)\n",
    "\n",
    "    # use below for linear model\n",
    "#     w = gp_model[model]\n",
    "#     y_pred = np.matmul(gp_X,w)\n",
    "    \n",
    "    gp_y = gp_y.reshape((len(gp_y),1))\n",
    "    y_pred = y_pred.reshape((len(y_pred),1))\n",
    "    \n",
    "    e = np.concatenate((gp_y,y_pred), axis=1)\n",
    "    errors = np.concatenate((errors,e), axis=0)\n",
    "    \n",
    "RMSE(errors[:,0] , errors[:,1])"
   ]
  },
  {
   "cell_type": "markdown",
   "id": "2d883e3f",
   "metadata": {},
   "source": [
    "# Final Results(modelwise)"
   ]
  },
  {
   "cell_type": "markdown",
   "id": "c28f9b4f",
   "metadata": {},
   "source": [
    "| Algorithm     | Train RMSE  | Test RMSE | Train RMSE(modelwise) | Test RMSE (modelwise)|\n",
    "| --------------| ----------- | --------- | --------------------- | -------------------- |\n",
    "| Linear        | 3220        |   3633    |        2069           |           59184      |\n",
    "| Ridge         | 3220        |   3520    |        2196           |           3175       |\n",
    "| Lasso         | 3232        |   3504    |        2392           |           3842       |\n",
    "| Huber         | 3318        |   3430    |        2350           |           3565       |\n",
    "| Random Forest | 1199        |   3152    |        1180           |           3047       |\n",
    "| Boosting      | 2606        |   3126    |        1132           |           3067       |\n"
   ]
  },
  {
   "cell_type": "code",
   "execution_count": null,
   "id": "01902fdb",
   "metadata": {},
   "outputs": [],
   "source": []
  },
  {
   "cell_type": "code",
   "execution_count": null,
   "id": "e6f4847f",
   "metadata": {},
   "outputs": [],
   "source": []
  },
  {
   "cell_type": "code",
   "execution_count": null,
   "id": "3c8c8d57",
   "metadata": {},
   "outputs": [],
   "source": []
  },
  {
   "cell_type": "code",
   "execution_count": null,
   "id": "82a16391",
   "metadata": {},
   "outputs": [],
   "source": []
  },
  {
   "cell_type": "code",
   "execution_count": null,
   "id": "0d4e5685",
   "metadata": {},
   "outputs": [],
   "source": []
  }
 ],
 "metadata": {
  "kernelspec": {
   "display_name": "Python 3",
   "language": "python",
   "name": "python3"
  },
  "language_info": {
   "codemirror_mode": {
    "name": "ipython",
    "version": 3
   },
   "file_extension": ".py",
   "mimetype": "text/x-python",
   "name": "python",
   "nbconvert_exporter": "python",
   "pygments_lexer": "ipython3",
   "version": "3.7.6"
  }
 },
 "nbformat": 4,
 "nbformat_minor": 5
}
